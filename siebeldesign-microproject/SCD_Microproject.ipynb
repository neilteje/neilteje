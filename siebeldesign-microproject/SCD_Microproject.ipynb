{
 "cells": [
  {
   "cell_type": "markdown",
   "metadata": {},
   "source": [
    "<h1 style=\"text-align: center\">\n",
    "<div style=\"color: #DD3403; font-size: 60%\">Data Science DISCOVERY MicroProject #xX</div>\n",
    "<span style=\"\">MicroProject: Siebel Center of Design Internet Usage</span>\n",
    "<div style=\"font-size: 60%;\"><a href=\"https://discovery.cs.illinois.edu/microproject/\">https://discovery.cs.illinois.edu/microproject/10-siebel-internet-data/</a></div>\n",
    "</h1>\n",
    "\n",
    "<hr style=\"color: #DD3403;\">"
   ]
  },
  {
   "cell_type": "markdown",
   "metadata": {},
   "source": [
    "## Dataset: \"Siebel Center for Design Internet Usage\"\n",
    "\n",
    "Siebel Center for Design, located in the South Quad at the University of Illinois, keeps track of its users logged onto the Illinois-Net network name throughout given periods of time. We have pulled their statistics from a given week *(7 days)* and are going to analyze it in this microproject. Our course staff has **cleaned the dataset in order to have each row representing one student**, and added a few columns to include that student's college, and whether they are pursuing more studies or no (double major, minor, dual degree, etc).\n",
    "\n",
    "The Siebel Center Design dataset is included as part of this MicroProject during your merge from GitHub as `Siebel_DataSet.csv`.\n",
    "\n",
    "Your first task is to load the dataset into a DataFrame called `df`:"
   ]
  },
  {
   "cell_type": "code",
   "execution_count": 3,
   "metadata": {},
   "outputs": [],
   "source": [
    "df = ..."
   ]
  },
  {
   "cell_type": "code",
   "execution_count": 13,
   "metadata": {},
   "outputs": [
    {
     "name": "stdout",
     "output_type": "stream",
     "text": [
      "🎉 All tests passed! 🎉\n"
     ]
    }
   ],
   "source": [
    "## == TEST CASES for Dataset Import ==\n",
    "# - This read-only cell contains test cases for your previous cell.\n",
    "# - If this cell runs without any errors, you PASSED all test cases!\n",
    "# - If this cell results in any errors, check your previous cell, make changes, and RE-RUN your code and then this cell.\n",
    "assert(\"df\" in vars()), \"Make sure to name the DataFrame df\"\n",
    "assert(len(df) == 5632), \"Make sure you read in the correct csv\"\n",
    "\n",
    "## == SUCCESS MESSAGE ==\n",
    "# You will only see this message (with the emoji showing) if you passed all test cases:\n",
    "tada = \"\\N{PARTY POPPER}\"\n",
    "print(f\"{tada} All tests passed! {tada}\")"
   ]
  },
  {
   "cell_type": "markdown",
   "metadata": {},
   "source": [
    "<hr style=\"color: #DD3403;\">"
   ]
  },
  {
   "cell_type": "markdown",
   "metadata": {},
   "source": [
    "## Puzzle 1.1: Simple Summary Statistics!\n",
    "\n",
    "In this dataset, each row is a student that used the `IllinoisNet` Wi-Fi network at Siebel Design within a given week. We are also given their major, and any further concentration/studies they are pursuing. \n",
    "\n",
    "Let's start by finding students that major in `Statistics` and used the Wi-Fi in that given time frame. Store these rows in a new DataFrame titled `df_statistics`."
   ]
  },
  {
   "cell_type": "code",
   "execution_count": 4,
   "metadata": {},
   "outputs": [],
   "source": [
    "df_statistics = ..."
   ]
  },
  {
   "cell_type": "markdown",
   "metadata": {},
   "source": [
    "Now, find the # of students that used the Wi-Fi during that time period that are statistics majors, by performing some elementary mathematical operations. Store this value in `df_statPercent`.\n",
    "\n",
    "- Hint: Use `len()` to find the length of a particular DataFrame (# of rows)"
   ]
  },
  {
   "cell_type": "code",
   "execution_count": 5,
   "metadata": {},
   "outputs": [],
   "source": [
    "df_statPercent = ..."
   ]
  },
  {
   "cell_type": "code",
   "execution_count": 16,
   "metadata": {},
   "outputs": [
    {
     "name": "stdout",
     "output_type": "stream",
     "text": [
      "🎉 All tests passed! 🎉\n"
     ]
    }
   ],
   "source": [
    "## == TEST CASES for Puzzle 1.1 ==\n",
    "# - This read-only cell contains test cases for your previous cell.\n",
    "# - If this cell runs without any errors, you PASSED all test cases!\n",
    "# - If this cell results in any errors, check your previous cell, make changes, and RE-RUN your code and then this cell.\n",
    "assert(df_statPercent == 0.009588068181818182), \"Make sure the \\\"Year\\\" column is set as the index\"\n",
    "assert(df_statistics.shape[0] == 54), \"Make sure the \\\"Year\\\" column is set as the index\"\n",
    "\n",
    "## == SUCCESS MESSAGE ==\n",
    "# You will only see this message (with the emoji showing) if you passed all test cases:\n",
    "tada = \"\\N{PARTY POPPER}\"\n",
    "print(f\"{tada} All tests passed! {tada}\")"
   ]
  },
  {
   "cell_type": "markdown",
   "metadata": {},
   "source": [
    "<hr style=\"color: #DD3403;\">"
   ]
  },
  {
   "cell_type": "markdown",
   "metadata": {},
   "source": [
    "## Puzzle 1.2: Deeper dive into \"MoreStudies\" column!\n",
    "\n",
    "This dataset contains a very cool statistic and piece of information, whether a particular student accessing IllinoisNet is pursuing another major, a minor, or a concentration within their degree. A boolean is stored in the column `MoreStudies`, which is *True* when a student **IS** pursuing the said major, minor, or concentration, or *False* when the student **IS NOT** doing so. \n",
    "\n",
    "Your task is to find the students that **are** pursuing another major, a minor, or a concentration within their degree and store these rows in `df_concentration`. "
   ]
  },
  {
   "cell_type": "code",
   "execution_count": 7,
   "metadata": {},
   "outputs": [],
   "source": [
    "df_concentration = ..."
   ]
  },
  {
   "cell_type": "markdown",
   "metadata": {},
   "source": [
    "Calculate the % of total students accessing Siebel Wi-Fi that are pursuing another major, a minor, or a concentration within their degree, store this value in `df_percentmore`."
   ]
  },
  {
   "cell_type": "code",
   "execution_count": 8,
   "metadata": {},
   "outputs": [],
   "source": [
    "df_percentmore = ..."
   ]
  },
  {
   "cell_type": "markdown",
   "metadata": {},
   "source": [
    "To add a little fun, let's explore your specific college! In `df_mycollege`, store the rows of students that are pursuing another major, a minor, or a concentration within degree **from your college**. Some colleges at UIUC are \"College of Liberal Arts & Sciences \" <- Put the space after Sciences for it to work, \"Grainger College of Engineering\", \"College of Law\", etc. \n",
    "\n",
    "A full list is available at `http://catalog.illinois.edu/schools/`\n",
    "\n",
    "- Hint: the `MoreStudies` column SHOULD be true for all of the rows stored in `df_mycollege`."
   ]
  },
  {
   "cell_type": "code",
   "execution_count": 9,
   "metadata": {},
   "outputs": [],
   "source": [
    "df_mycollege = ..."
   ]
  },
  {
   "cell_type": "code",
   "execution_count": 20,
   "metadata": {},
   "outputs": [
    {
     "name": "stdout",
     "output_type": "stream",
     "text": [
      "🎉 All tests passed! 🎉\n"
     ]
    }
   ],
   "source": [
    "## == TEST CASES for Puzzle 1.2 ==\n",
    "# - This read-only cell contains test cases for your previous cell.\n",
    "# - If this cell runs without any errors, you PASSED all test cases!\n",
    "# - If this cell results in any errors, check your previous cell, make changes, and RE-RUN your code and then this cell.\n",
    "assert(len(df_mycollege) > -1), \"Make sure the \\\"Year\\\" column is set as the index\"\n",
    "assert(df_percentmore < 0.05), \"Make sure the \\\"Year\\\" column is set as the index\"\n",
    "assert(len(df_concentration) == 232), \"Make sure\"\n",
    "\n",
    "## == SUCCESS MESSAGE ==\n",
    "# You will only see this message (with the emoji showing) if you passed all test cases:\n",
    "tada = \"\\N{PARTY POPPER}\"\n",
    "print(f\"{tada} All tests passed! {tada}\")"
   ]
  },
  {
   "cell_type": "markdown",
   "metadata": {},
   "source": [
    "<hr style=\"color: #DD3403;\">"
   ]
  },
  {
   "cell_type": "markdown",
   "metadata": {},
   "source": [
    "## Puzzle 2: Finding Statistics by Colleges at UIUC\n",
    "\n",
    "In most colleges at UIUC, we have data of their students using the IllinoisNet Wi-Fi. Let's now find the specific numbers of students using it, by college.  Using `groupby`, create a DataFrame `df_college` that counts the number of students in each major from UIUC using Siebel Design's Wi-Fi. \n",
    "\n",
    "Let's also clean the DataFrame a bit. You will notice when you `.groupby()`, there are excess columns you do not need for comprehension. Let us drop the `\"Affiliate\"` and `\"MoreStudies\"` column of our DataFrame. \n",
    "\n",
    "To perform this deletion of columns, we will use `df.drop()` function, which takes 2 parameters, the column(s) you want to drop, and the axis. Here is the format we will use to drop specific columns, replacing \"Column 1\" and \"Column 2\" from columns listed above. \n",
    "- `df_college.drop(['Column 1'], ['Column 2'], axis=1)`"
   ]
  },
  {
   "cell_type": "code",
   "execution_count": 1,
   "metadata": {},
   "outputs": [],
   "source": [
    "df_college = ..."
   ]
  },
  {
   "cell_type": "markdown",
   "metadata": {},
   "source": [
    "Now, we will only use the 10 columns that have the largest values of the number of students in the specific college. Use the `.nlargest()` function from class to store the top 10 colleges (by student count) in `df_top10`."
   ]
  },
  {
   "cell_type": "code",
   "execution_count": 2,
   "metadata": {},
   "outputs": [],
   "source": [
    "df_top10 = ..."
   ]
  },
  {
   "cell_type": "code",
   "execution_count": 23,
   "metadata": {},
   "outputs": [
    {
     "name": "stdout",
     "output_type": "stream",
     "text": [
      "🎉 All tests passed! 🎉\n"
     ]
    }
   ],
   "source": [
    "## == TEST CASES for Puzzle 2 ==\n",
    "# - This read-only cell contains test cases for your previous cell.\n",
    "# - If this cell runs without any errors, you PASSED all test cases!\n",
    "# - If this cell results in any errors, check your previous cell, make changes, and RE-RUN your code and then this cell.\n",
    "assert(len(df_mycollege) > -1), \"Make sure the \\\"Year\\\" column is set as the index\"\n",
    "assert(df_percentmore < 0.05), \"Make sure the \\\"Year\\\" column is set as the index\"\n",
    "assert(len(df_concentration) == 232), \"Make sure\"\n",
    "\n",
    "## == SUCCESS MESSAGE ==\n",
    "# You will only see this message (with the emoji showing) if you passed all test cases:\n",
    "tada = \"\\N{PARTY POPPER}\"\n",
    "print(f\"{tada} All tests passed! {tada}\")"
   ]
  },
  {
   "cell_type": "markdown",
   "metadata": {},
   "source": [
    "<hr style=\"color: #DD3403;\">"
   ]
  },
  {
   "cell_type": "markdown",
   "metadata": {},
   "source": [
    "## Puzzle 3: Plotting all our data!\n",
    "\n",
    "Finally, we will plot it all on a bar graph! We will use `df.plot.bar` to plot all our numbers from `df_top10` on a bar chart representation. `df.plot.bar` uses 3 parameters, the x column of the bar chart, the y column, and the figure size of our chart. For simplicity, we will keep the `figsize` parameter at `(5,4)`. \n",
    "- Our plotting code should be as follows: `df.plot.bar(x='', y='', figsize=(5,4))`\n",
    "\n",
    "Fill out the `didItPlot` variable as \"YES\" if your plot worked!"
   ]
  },
  {
   "cell_type": "code",
   "execution_count": 10,
   "metadata": {},
   "outputs": [],
   "source": [
    "\n",
    "\n",
    "didItPlot = ..."
   ]
  },
  {
   "cell_type": "markdown",
   "metadata": {},
   "source": [
    "## 🔬 Microproject Checkpoint Tests 🔬"
   ]
  },
  {
   "cell_type": "code",
   "execution_count": 25,
   "metadata": {},
   "outputs": [
    {
     "name": "stdout",
     "output_type": "stream",
     "text": [
      "🎉 Puzzle 1: All Tests Passed! 🎉\n",
      "🎉 Puzzle 2: All Tests Passed! 🎉\n",
      "🎉 Puzzle 3: All Tests Passed! 🎉\n",
      "🎉🎉 All Tests Passed! 🎉🎉\n"
     ]
    }
   ],
   "source": [
    "## == CHECKPOINT TEST CASES ==\n",
    "# - This read-only cell contains test cases for the microproject.\n",
    "# - If this cell runs without any error in the output, you PASSED all test cases!\n",
    "# - If this cell results in any errors, check you previous cells, make changes, and RE-RUN your code and then this cell.\n",
    "\n",
    "tada = \"\\N{PARTY POPPER}\"\n",
    "R = -1\n",
    "D = R - 1\n",
    "\n",
    "assert( df.shape[1] == 4 )\n",
    "assert( len(df)*4 == 22528 )\n",
    "assert( df_statistics.shape[1] == 4 )\n",
    "print(f\"{tada} Puzzle 1: All Tests Passed! {tada}\")\n",
    "\n",
    "assert(len(df_college) == 18)\n",
    "assert(df_top10.Major.mean() == 520.1)\n",
    "assert(df_college.Major.std() == 409.9208157234744)\n",
    "print(f\"{tada} Puzzle 2: All Tests Passed! {tada}\")\n",
    "\n",
    "assert(didItPlot == \"YES\")\n",
    "print(f\"{tada} Puzzle 3: All Tests Passed! {tada}\")\n",
    "\n",
    "print(f\"{tada}{tada} All Tests Passed! {tada}{tada}\")"
   ]
  },
  {
   "cell_type": "markdown",
   "metadata": {},
   "source": [
    "<hr style=\"color: #DD3403;\">"
   ]
  },
  {
   "cell_type": "markdown",
   "metadata": {},
   "source": [
    "## Submission\n",
    "\n",
    "You're almost done!  All you need to do is to commit your lab to GitHub and run the GitHub Actions Grader:\n",
    "\n",
    "1.  ⚠️ **Make certain to save your work.** ⚠️ To do this, go to **File => Save All**\n",
    "\n",
    "2.  After you have saved, exit this notebook and follow the instructions to commit and grade this MicroProject!\n"
   ]
  }
 ],
 "metadata": {
  "kernelspec": {
   "display_name": "Python 3",
   "language": "python",
   "name": "python3"
  },
  "language_info": {
   "codemirror_mode": {
    "name": "ipython",
    "version": 3
   },
   "file_extension": ".py",
   "mimetype": "text/x-python",
   "name": "python",
   "nbconvert_exporter": "python",
   "pygments_lexer": "ipython3",
   "version": "3.10.6"
  },
  "orig_nbformat": 4,
  "vscode": {
   "interpreter": {
    "hash": "aee8b7b246df8f9039afb4144a1f6fd8d2ca17a180786b69acc140d282b71a49"
   }
  }
 },
 "nbformat": 4,
 "nbformat_minor": 2
}
